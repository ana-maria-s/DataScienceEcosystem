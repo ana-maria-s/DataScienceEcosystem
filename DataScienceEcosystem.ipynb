{
  "metadata": {
    "kernelspec": {
      "name": "python",
      "display_name": "Python (Pyodide)",
      "language": "python"
    },
    "language_info": {
      "codemirror_mode": {
        "name": "python",
        "version": 3
      },
      "file_extension": ".py",
      "mimetype": "text/x-python",
      "name": "python",
      "nbconvert_exporter": "python",
      "pygments_lexer": "ipython3",
      "version": "3.8"
    }
  },
  "nbformat_minor": 4,
  "nbformat": 4,
  "cells": [
    {
      "cell_type": "markdown",
      "source": "# Data Science Tools and Ecosystem",
      "metadata": {}
    },
    {
      "cell_type": "markdown",
      "source": "### In this notebook, Data Science Tools and Ecosystem are summarized.",
      "metadata": {}
    },
    {
      "cell_type": "markdown",
      "source": "##### Some of the popular languages that Data Scientists use are:\n1. Python\n2. R\n3. Julia",
      "metadata": {}
    },
    {
      "cell_type": "markdown",
      "source": "#### Some of the commonly used libraries used by Data Scientists include:\n1. Matplotlip\n2. Scikit-learn\n3. TensorFlow\n4. Pandas",
      "metadata": {}
    },
    {
      "cell_type": "markdown",
      "source": "R | JavaScript | Python\n---- | ----- | -----\nggplot2 | D3.js | NumPi\ncaret | TensorFlow.js | Jupyter",
      "metadata": {}
    },
    {
      "cell_type": "code",
      "source": "a = 2\nb = 3\nresult = a + b\nprint(result)",
      "metadata": {
        "trusted": true
      },
      "outputs": [
        {
          "name": "stdout",
          "text": "5\n",
          "output_type": "stream"
        }
      ],
      "execution_count": 1
    },
    {
      "cell_type": "code",
      "source": "x = 3\ny = 4\nz = 5\nresult = (x*y)+z\nprint(result)",
      "metadata": {
        "trusted": true
      },
      "outputs": [
        {
          "name": "stdout",
          "text": "17\n",
          "output_type": "stream"
        }
      ],
      "execution_count": 2
    },
    {
      "cell_type": "code",
      "source": "min = 200\nhours = min/60\nprint(hours)",
      "metadata": {
        "trusted": true
      },
      "outputs": [
        {
          "name": "stdout",
          "text": "3.3333333333333335\n",
          "output_type": "stream"
        }
      ],
      "execution_count": 3
    },
    {
      "cell_type": "markdown",
      "source": "#### Objectives:\n- list programing languages\n- list open source tools\n- create jupyter notebooks ",
      "metadata": {}
    },
    {
      "cell_type": "markdown",
      "source": "## Author:\nAna",
      "metadata": {}
    }
  ]
}